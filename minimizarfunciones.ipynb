{
  "nbformat": 4,
  "nbformat_minor": 0,
  "metadata": {
    "colab": {
      "provenance": []
    },
    "kernelspec": {
      "name": "python3",
      "display_name": "Python 3"
    },
    "language_info": {
      "name": "python"
    }
  },
  "cells": [
    {
      "cell_type": "code",
      "execution_count": null,
      "metadata": {
        "colab": {
          "base_uri": "https://localhost:8080/"
        },
        "id": "Wn2BmPQW4DJt",
        "outputId": "cdd47035-aed0-4dcc-8285-0cb60970eacc"
      },
      "outputs": [
        {
          "output_type": "execute_result",
          "data": {
            "text/plain": [
              "0.0"
            ]
          },
          "metadata": {},
          "execution_count": 34
        }
      ],
      "source": [
        "#Definimos la función 1 sobre la cual trabajaremos.\n",
        "def funcion(x,y):\n",
        "  return(((4-2.1*x**2+(x**4)/3)*x**2)+x*y+(-4+4*y**2)*y**2)\n",
        "funcion(0,0)"
      ]
    },
    {
      "cell_type": "code",
      "source": [
        "#Importamos las bibliotecas a utilizar.\n",
        "import numpy as np\n",
        "#Creamos una función que dado un rango y una dimensión genere un vector aleatorio con dicha dimensión y números dentro del rango. \n",
        "def funcion_vectaleatorio(n,rango):\n",
        "  return np.random.uniform(low=rango[0], high=rango[1], size=(n,))\n",
        "#Probamos la función.\n",
        "funcion_vectaleatorio(4,(0,10))"
      ],
      "metadata": {
        "colab": {
          "base_uri": "https://localhost:8080/"
        },
        "id": "Z-dXby1k6vMg",
        "outputId": "bb2d329e-d707-475c-9822-e9436fd2ac71"
      },
      "execution_count": 1,
      "outputs": [
        {
          "output_type": "execute_result",
          "data": {
            "text/plain": [
              "array([8.95012156, 9.200067  , 5.29474639, 0.88061346])"
            ]
          },
          "metadata": {},
          "execution_count": 1
        }
      ]
    },
    {
      "cell_type": "code",
      "source": [
        "#Definimos una función para iterar n veces el problema y guardar el minimo de dichas iteraciones encontradas con vectores aleatorios en el rango especificado\n",
        "def correr(n):\n",
        " #Inicializamos la imagen minima asi como los valores finales de las coordenadas \n",
        " imagen=0\n",
        " finalc1=0\n",
        " finalc2=0\n",
        " #Iteramos el problema n veces\n",
        " for i in range (n):\n",
        "   c1=funcion_vectaleatorio(1,(-3,3))\n",
        "   c2=funcion_vectaleatorio(1,(-2,2))\n",
        "   #Si la imagen en la iteración resulta menor que la imagen mas pequeña encontrada en las iteraciones anteriores reasignamos dicha imagen\n",
        "   if (funcion(c1,c2)<imagen):\n",
        "     imagen=funcion(c1,c2)\n",
        "     #Guardamos las coordenadas que inducen dicha imagen\n",
        "     finalc1=c1\n",
        "     finalc2=c2\n",
        "   #Regresamos en una lista la imagen con sus coordenadas\n",
        " return [imagen,finalc1,finalc2]\n"
      ],
      "metadata": {
        "id": "SfnMmccL8n37"
      },
      "execution_count": null,
      "outputs": []
    },
    {
      "cell_type": "code",
      "source": [
        "#Corremos el problema un número de veces considerable y analizamos la solución obtenida\n",
        "correr(1000000)"
      ],
      "metadata": {
        "colab": {
          "base_uri": "https://localhost:8080/"
        },
        "id": "8RlQXWtKBb0r",
        "outputId": "3ab7660a-d1fb-4631-c92b-7c2fa05b00a0"
      },
      "execution_count": null,
      "outputs": [
        {
          "output_type": "execute_result",
          "data": {
            "text/plain": [
              "[array([-1.03156566]), array([0.09362061]), array([-0.71192312])]"
            ]
          },
          "metadata": {},
          "execution_count": 63
        }
      ]
    },
    {
      "cell_type": "code",
      "source": [
        "#Definimos la función 2 a minimizar\n",
        "def funcion2(a,b,c,d,x):\n",
        "  suma1=0\n",
        "  for i in x:\n",
        "    suma1=suma1+i**2\n",
        "  suma2=0\n",
        "  for i in x:\n",
        "    suma2=suma2+np.cos(c*i)\n",
        "  return -a*np.exp(-b*np.sqrt(1/d *suma1))-np.exp(1/d*suma2)+a+np.exp(1)"
      ],
      "metadata": {
        "id": "WvkISJpjF0Uw"
      },
      "execution_count": null,
      "outputs": []
    },
    {
      "cell_type": "code",
      "source": [
        "#Recommended variable values are: a = 20, b = 0.2 and c = 2π.\n",
        "#Creamos una función correr la cual recibe como parámetros una dimensión como la cantidad de iteraciones que queremos que utilice\n",
        "def correr2(n,d):\n",
        "  #Iniciamos la imagen minima como el vector que la induce\n",
        "  imagen=25\n",
        "  xfinal=np.zeros(d)\n",
        "  #Realizamos el problema n veces\n",
        "  for i in range(n):\n",
        "    x=funcion_vectaleatorio(d,(-32.768, 32.768))\n",
        "    #Nuevamente, si la imagen de la iteración actual es menor a la anteriormente encontrada reasignamos la variable y guardamos el vector que la induce\n",
        "    if(funcion2(20,0.2,2*np.pi,d,x)<imagen):\n",
        "      imagen=funcion2(20,0.2,2*np.pi,d,x)\n",
        "      xfinal=x\n",
        "  #Regresamos la imagen y el vector que la induce en una lista    \n",
        "  return [imagen,xfinal]"
      ],
      "metadata": {
        "id": "XzVpWrE8Il2r"
      },
      "execution_count": null,
      "outputs": []
    },
    {
      "cell_type": "code",
      "source": [
        "#Iteramos el problema un número considerable de veces para dimensión 2 con las recomendaciones del artículo\n",
        "correr2(10000000,2)"
      ],
      "metadata": {
        "colab": {
          "base_uri": "https://localhost:8080/"
        },
        "id": "MQesf8YTLa1m",
        "outputId": "7851300d-28d3-4198-d091-7b2ed0617170"
      },
      "execution_count": null,
      "outputs": [
        {
          "output_type": "execute_result",
          "data": {
            "text/plain": [
              "[0.028187139490139845, array([-0.00219024, -0.00890857])]"
            ]
          },
          "metadata": {},
          "execution_count": 80
        }
      ]
    }
  ]
}